{
 "cells": [
  {
   "cell_type": "code",
   "execution_count": 10,
   "metadata": {},
   "outputs": [
    {
     "name": "stdout",
     "output_type": "stream",
     "text": [
      "1\n",
      "2\n",
      "3\n",
      "4\n",
      "\n",
      "10\n",
      "9\n",
      "8\n",
      "7\n",
      "6\n",
      "5\n",
      "4\n",
      "3\n",
      "2\n",
      "1\n",
      "\n",
      "10\n",
      "8\n",
      "6\n",
      "4\n",
      "2\n"
     ]
    }
   ],
   "source": [
    "#While Loops\n",
    "\n",
    "# Inicia a variavel com o numero 1\n",
    "\n",
    "numero = 1\n",
    "\n",
    "# Continua o loop enquanto 'numero' for menor que 5\n",
    "\n",
    "while numero < 5:\n",
    "    print(numero)\n",
    "\n",
    "    numero += 1 #numero = numero +1\n",
    "\n",
    "\n",
    "print ()\n",
    "\n",
    "contador = 10\n",
    "\n",
    "while contador > 0:\n",
    "\n",
    "   print(contador)\n",
    "\n",
    "   contador -= 1\n",
    "\n",
    "\n",
    "print ()\n",
    "\n",
    "contador = 10\n",
    "\n",
    "while contador >= 1:\n",
    "    print(contador)\n",
    "    contador -= 2"
   ]
  },
  {
   "cell_type": "code",
   "execution_count": 11,
   "metadata": {},
   "outputs": [
    {
     "name": "stdout",
     "output_type": "stream",
     "text": [
      "Número: 1\n",
      "Número: 2\n",
      "Número: 3\n",
      "Número: 4\n",
      "Número: 5\n",
      "Número: 6\n",
      "Número: 7\n",
      "Número: 8\n",
      "Número: 9\n",
      "Número: 10\n",
      "Números impressos com sucesso!\n"
     ]
    }
   ],
   "source": [
    "contador = 0\n",
    "\n",
    "while contador <10:\n",
    "\n",
    "    contador += 1\n",
    "\n",
    "    print(\"Número:\", contador)\n",
    "\n",
    "else:\n",
    "    \n",
    "    print(\"Números impressos com sucesso!\")"
   ]
  },
  {
   "cell_type": "code",
   "execution_count": 12,
   "metadata": {},
   "outputs": [
    {
     "name": "stdout",
     "output_type": "stream",
     "text": [
      "1\n",
      "2\n",
      "3\n",
      "4\n",
      "5\n"
     ]
    }
   ],
   "source": [
    "numero = 1\n",
    "\n",
    "while numero < 100:\n",
    "\n",
    "    print(numero)\n",
    "\n",
    "    if numero ==5:\n",
    "\n",
    "        #se 'numero' é igual a 5, sai do loop imediatamente\n",
    "        break\n",
    "    \n",
    "    #Incrementa 'numero' em 1 para a próxima interação.\n",
    "    numero += 1\n",
    "\n",
    "\n"
   ]
  },
  {
   "cell_type": "code",
   "execution_count": 16,
   "metadata": {},
   "outputs": [
    {
     "name": "stdout",
     "output_type": "stream",
     "text": [
      "Linha: 0 - Coluna: 0\n",
      "Linha: 0 - Coluna: 1\n",
      "Linha: 0 - Coluna: 2\n",
      "Linha: 1 - Coluna: 0\n",
      "Linha: 1 - Coluna: 1\n",
      "Linha: 1 - Coluna: 2\n",
      "Linha: 2 - Coluna: 0\n",
      "Linha: 2 - Coluna: 1\n",
      "Linha: 2 - Coluna: 2\n"
     ]
    }
   ],
   "source": [
    "#Inicializa a variavel 'Linha' com o valor 0\n",
    "linha = 0\n",
    "\n",
    "#Continua o loop externo enquanto 'Linha' for menor que 3\n",
    "while linha < 3:\n",
    "    \n",
    "    #Inicializa a variavel 'coluna' com o valor 0 para cada nova interação\n",
    "    coluna = 0\n",
    "\n",
    "    #Continua o loop externo enquanto 'coluna' for menor que 3\n",
    "    while coluna <3:\n",
    "\n",
    "        #Imprime os valores atual de linha e coluna\n",
    "        print (\"Linha:\", linha, \"- Coluna:\", coluna)\n",
    "\n",
    "        #Incrementa \n",
    "        coluna += 1\n",
    "\n",
    "    linha += 1\n",
    "\n"
   ]
  },
  {
   "cell_type": "code",
   "execution_count": 17,
   "metadata": {},
   "outputs": [
    {
     "name": "stdout",
     "output_type": "stream",
     "text": [
      "1\n",
      "2\n",
      "3\n",
      "4\n",
      "5\n",
      "6\n",
      "7\n",
      "8\n",
      "9\n",
      "10\n",
      "Acabou.\n"
     ]
    }
   ],
   "source": [
    "numeroInicial = 1\n",
    "\n",
    "numeroFinal = int(input(\"Digite um número maior que 1: \"))\n",
    "\n",
    "while numeroInicial <= numeroFinal:\n",
    "\n",
    "    print(numeroInicial)\n",
    "    numeroInicial += 1\n",
    "    \n",
    "else:\n",
    "    print(\"Acabou.\")\n"
   ]
  },
  {
   "cell_type": "code",
   "execution_count": 22,
   "metadata": {},
   "outputs": [
    {
     "name": "stdout",
     "output_type": "stream",
     "text": [
      "Números pares entre 1 e 10 :\n",
      "1 números impares. \n",
      "2número par. 3 números impares. \n",
      "4número par. 5 números impares. \n",
      "6número par. 7 números impares. \n",
      "8número par. 9 números impares. \n",
      "10número par. "
     ]
    }
   ],
   "source": [
    "numero = 1\n",
    "max = int(input(\"Digite um inteiro maior que 1: \"))\n",
    "\n",
    "print(\"Números pares entre 1 e\", max, \":\")\n",
    "\n",
    "while numero <= max:\n",
    "\n",
    "    if numero % 2 == 0:\n",
    "        \n",
    "        print(numero, end = \"número par. \")\n",
    "    \n",
    "    if numero % 2 == 1:\n",
    "\n",
    "        print(numero, \"números impares. \")\n",
    "\n",
    "    numero += 1\n"
   ]
  },
  {
   "cell_type": "code",
   "execution_count": null,
   "metadata": {},
   "outputs": [],
   "source": []
  }
 ],
 "metadata": {
  "kernelspec": {
   "display_name": "Python 3",
   "language": "python",
   "name": "python3"
  },
  "language_info": {
   "codemirror_mode": {
    "name": "ipython",
    "version": 3
   },
   "file_extension": ".py",
   "mimetype": "text/x-python",
   "name": "python",
   "nbconvert_exporter": "python",
   "pygments_lexer": "ipython3",
   "version": "3.12.0"
  }
 },
 "nbformat": 4,
 "nbformat_minor": 2
}
