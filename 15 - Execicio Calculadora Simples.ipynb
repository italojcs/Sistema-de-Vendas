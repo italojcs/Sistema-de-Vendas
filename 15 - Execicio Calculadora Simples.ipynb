{
 "cells": [
  {
   "cell_type": "code",
   "execution_count": 5,
   "metadata": {},
   "outputs": [
    {
     "name": "stdout",
     "output_type": "stream",
     "text": [
      "\n",
      "Calculadora Simples\n",
      "1 - Soma\n",
      "2 - Subtração\n",
      "3 - Multiplicação\n",
      "4 - Divisão\n",
      "5 - Sair\n",
      "O resultado da divisão foi: 5.00\n",
      "\n",
      "Calculadora Simples\n",
      "1 - Soma\n",
      "2 - Subtração\n",
      "3 - Multiplicação\n",
      "4 - Divisão\n",
      "5 - Sair\n",
      "Obrigado por utilizar nossa calculadora. Ate mais!\n"
     ]
    }
   ],
   "source": [
    "while True:\n",
    "\n",
    "    print(\"\\nCalculadora Simples\")\n",
    "    print(\"1 - Soma\")\n",
    "    print(\"2 - Subtração\")\n",
    "    print(\"3 - Multiplicação\")\n",
    "    print(\"4 - Divisão\")\n",
    "    print(\"5 - Sair\")\n",
    "\n",
    "    UserInput = float(input(\"Selecione a operação desejada (de 1 a 5): \"))\n",
    "\n",
    "    if UserInput == 1:\n",
    "\n",
    "        resultadoSoma = 0\n",
    "        numero1 = int(input(\"Informe o primeiro valor: \"))\n",
    "        numero2 = int(input(\"Informe o segundo valor: \"))\n",
    "\n",
    "        resultadoSoma = numero1 + numero2\n",
    "\n",
    "        print(f\"O resultado da soma foi: {resultadoSoma}\")\n",
    "\n",
    "    elif UserInput == 2:\n",
    "\n",
    "        resultadoSubtracao = 0\n",
    "        numero1 = int(input(\"Informe o primeiro valor: \"))\n",
    "        numero2 = int(input(\"Informe o segundo valor: \"))\n",
    "\n",
    "        resultadoSubtracao   = numero1 - numero2\n",
    "\n",
    "        print(f\"O resultado da subtração foi: {resultadoSubtracao}\")\n",
    "\n",
    "    elif UserInput == 3:\n",
    "\n",
    "        resultadoMultiplicacao = 0\n",
    "        numero1 = float(input(\"Informe o primeiro valor: \"))\n",
    "        numero2 = float(input(\"Informe o segundo valor: \"))\n",
    "\n",
    "        resultadoMultiplicacao  = numero1 * numero2\n",
    "\n",
    "        print(f\"O resultado da multiplicação foi: {resultadoMultiplicacao:.2f}\")\n",
    "\n",
    "    elif UserInput == 4:\n",
    "\n",
    "        resultadoDivisão = 0\n",
    "        numero1 = float(input(\"Informe o primeiro valor: \"))\n",
    "        numero2 = float(input(\"Informe o segundo valor: \"))\n",
    "\n",
    "        resultadoDivisão  = numero1 / numero2\n",
    "\n",
    "        print(f\"O resultado da divisão foi: {resultadoDivisão:.2f}\")\n",
    "\n",
    "    elif UserInput == 5:\n",
    "\n",
    "        print(\"Obrigado por utilizar nossa calculadora. Ate mais!\")\n",
    "\n",
    "        break\n",
    "\n",
    "    else: \n",
    "\n",
    "        print(\"Nenhuma opção escolhida.\")\n",
    "\n"
   ]
  }
 ],
 "metadata": {
  "kernelspec": {
   "display_name": "Python 3",
   "language": "python",
   "name": "python3"
  },
  "language_info": {
   "codemirror_mode": {
    "name": "ipython",
    "version": 3
   },
   "file_extension": ".py",
   "mimetype": "text/x-python",
   "name": "python",
   "nbconvert_exporter": "python",
   "pygments_lexer": "ipython3",
   "version": "3.12.0"
  }
 },
 "nbformat": 4,
 "nbformat_minor": 2
}
