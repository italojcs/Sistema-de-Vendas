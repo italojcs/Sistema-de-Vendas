{
 "cells": [
  {
   "cell_type": "code",
   "execution_count": 7,
   "metadata": {},
   "outputs": [
    {
     "name": "stdout",
     "output_type": "stream",
     "text": [
      "1 * 1 = 1\n",
      "1 * 2 = 2\n",
      "1 * 3 = 3\n",
      "2 * 1 = 2\n",
      "2 * 2 = 4\n",
      "2 * 3 = 6\n",
      "3 * 1 = 3\n",
      "3 * 2 = 6\n",
      "3 * 3 = 9\n"
     ]
    }
   ],
   "source": [
    "#For Nested Loops\n",
    "\n",
    "#Um loop dentro do outro.\n",
    "\n",
    "#Exemplo de loops aninhados\n",
    "\n",
    "for linha in range (1,4):\n",
    "\n",
    "    for coluna in range (1,4):\n",
    "\n",
    "        print(linha, \"*\", coluna, \"=\", linha*coluna)"
   ]
  },
  {
   "cell_type": "code",
   "execution_count": 8,
   "metadata": {},
   "outputs": [
    {
     "name": "stdout",
     "output_type": "stream",
     "text": [
      "[1, 9, 25, 49, 81]\n"
     ]
    }
   ],
   "source": [
    "quadrados_impares = [x**2 for x in range (10) if x % 2 != 0]\n",
    "\n",
    "print(quadrados_impares)"
   ]
  },
  {
   "cell_type": "code",
   "execution_count": 10,
   "metadata": {},
   "outputs": [
    {
     "name": "stdout",
     "output_type": "stream",
     "text": [
      "['H', 'l', 'l', ' ', 'W', 'r', 'l', 'd']\n"
     ]
    }
   ],
   "source": [
    "texto = \"Hello World\"\n",
    "consoantes = [char for char in texto if char.lower() not in 'aeiou']\n",
    "print(consoantes)"
   ]
  },
  {
   "cell_type": "code",
   "execution_count": 16,
   "metadata": {},
   "outputs": [
    {
     "name": "stdout",
     "output_type": "stream",
     "text": [
      "O fatorial de 5 é: 120\n"
     ]
    }
   ],
   "source": [
    "contador = 1\n",
    "inputuser = int(input(\"Digite um valor positivo para obter o fatorial: \"))\n",
    "\n",
    "for numero in range (1, inputuser + 1):\n",
    "\n",
    "    contador *= numero\n",
    "\n",
    "\n",
    "print(f\"O fatorial de {inputuser} é: {contador}\")\n"
   ]
  }
 ],
 "metadata": {
  "kernelspec": {
   "display_name": "Python 3",
   "language": "python",
   "name": "python3"
  },
  "language_info": {
   "codemirror_mode": {
    "name": "ipython",
    "version": 3
   },
   "file_extension": ".py",
   "mimetype": "text/x-python",
   "name": "python",
   "nbconvert_exporter": "python",
   "pygments_lexer": "ipython3",
   "version": "3.12.0"
  }
 },
 "nbformat": 4,
 "nbformat_minor": 2
}
