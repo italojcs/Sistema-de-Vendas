{
 "cells": [
  {
   "cell_type": "code",
   "execution_count": 33,
   "metadata": {},
   "outputs": [
    {
     "name": "stdout",
     "output_type": "stream",
     "text": [
      "\n",
      "1\n",
      "\n",
      "2\n",
      "\n",
      "3\n",
      "\n",
      "4\n",
      "\n",
      "5\n",
      "\n",
      "6\n",
      "\n",
      "7\n",
      "\n",
      "8\n",
      "\n",
      "9\n",
      "\n",
      "10\n"
     ]
    }
   ],
   "source": [
    "#For laço de repetição\n",
    "#Função range para imprimir os números inteiros de 1 a 10\n",
    "\n",
    "for numero in range(1,11):\n",
    "\n",
    "    print()\n",
    "    print(numero)"
   ]
  },
  {
   "cell_type": "code",
   "execution_count": 34,
   "metadata": {},
   "outputs": [
    {
     "name": "stdout",
     "output_type": "stream",
     "text": [
      "10\n",
      "9\n",
      "8\n",
      "7\n",
      "6\n",
      "5\n",
      "4\n",
      "3\n",
      "2\n",
      "1\n"
     ]
    }
   ],
   "source": [
    "#for - utilizando números\n",
    "\n",
    "for i in range (10, 0, -1):\n",
    "    print(i)"
   ]
  },
  {
   "cell_type": "code",
   "execution_count": 35,
   "metadata": {},
   "outputs": [
    {
     "name": "stdout",
     "output_type": "stream",
     "text": [
      "2\n",
      "4\n",
      "6\n",
      "8\n",
      "10\n"
     ]
    }
   ],
   "source": [
    "#for - utilizando números\n",
    "\n",
    "#Começa em 2, e termina antes de 12, com um passo de 2\n",
    "\n",
    "for i in range (2, 11, 2):\n",
    "    print(i)"
   ]
  },
  {
   "cell_type": "code",
   "execution_count": 36,
   "metadata": {},
   "outputs": [
    {
     "name": "stdout",
     "output_type": "stream",
     "text": [
      "Número impar atual: 1\n",
      "Número impar atual: 3\n",
      "Número impar atual: 5\n",
      "Número impar atual: 7\n",
      "Número impar atual: 9\n",
      "\n",
      "A soma dos números impares de 1 a 10 é: 25\n"
     ]
    }
   ],
   "source": [
    "# Inicializando a variável para armazenar a soma\n",
    "soma = 0\n",
    "\n",
    "# Interando de 1 a 10 de 2 em 2 (capturando apenas os números ímpares)\n",
    "for i in range (1, 11, 2):\n",
    "\n",
    "    print(f\"Número impar atual: {i}\")\n",
    "\n",
    "    #soma = soma + i\n",
    "    soma += i\n",
    "\n",
    "print(f\"\\nA soma dos números impares de 1 a 10 é: {soma}\")\n",
    "\n"
   ]
  },
  {
   "cell_type": "code",
   "execution_count": 37,
   "metadata": {},
   "outputs": [
    {
     "name": "stdout",
     "output_type": "stream",
     "text": [
      "Multiplicando por 1, o resultado parcial é 1 \n",
      "Multiplicando por 2, o resultado parcial é 2 \n",
      "Multiplicando por 3, o resultado parcial é 6 \n",
      "Multiplicando por 4, o resultado parcial é 24 \n",
      "Multiplicando por 5, o resultado parcial é 120 \n",
      "\n",
      "O resultado final da multiplicação de 1 a 5 é: 120\n"
     ]
    }
   ],
   "source": [
    "resultado = 1\n",
    "\n",
    "for numero in range(1, 6):\n",
    "\n",
    "    resultado *= numero\n",
    "\n",
    "    print(f\"Multiplicando por {numero}, o resultado parcial é {resultado} \")\n",
    "\n",
    "print(f\"\\nO resultado final da multiplicação de 1 a 5 é: {resultado}\")"
   ]
  },
  {
   "cell_type": "code",
   "execution_count": 46,
   "metadata": {},
   "outputs": [
    {
     "name": "stdout",
     "output_type": "stream",
     "text": [
      "Número: 2 + 0 = 2 \n",
      "Número: 4 + 2 = 6 \n",
      "Número: 6 + 6 = 12 \n",
      "Número: 8 + 12 = 20 \n",
      "Número: 10 + 20 = 30 \n",
      "A soma dos números pares de 1 até 10 é 30\n"
     ]
    }
   ],
   "source": [
    "soma = 0\n",
    "inputuser = int(input(\"Digite um número inteiro positivo:\"))\n",
    "\n",
    "for numero in range (1, inputuser + 1):\n",
    "\n",
    "    if numero % 2 == 0:\n",
    "\n",
    "        print(f\"Número: {numero} + {soma} = {numero+soma} \")\n",
    "\n",
    "        soma += numero\n",
    "\n",
    "print(f\"A soma dos números pares de 1 até {inputuser} é {soma}\")\n",
    "\n",
    "\n"
   ]
  }
 ],
 "metadata": {
  "kernelspec": {
   "display_name": "Python 3",
   "language": "python",
   "name": "python3"
  },
  "language_info": {
   "codemirror_mode": {
    "name": "ipython",
    "version": 3
   },
   "file_extension": ".py",
   "mimetype": "text/x-python",
   "name": "python",
   "nbconvert_exporter": "python",
   "pygments_lexer": "ipython3",
   "version": "3.12.0"
  }
 },
 "nbformat": 4,
 "nbformat_minor": 2
}
