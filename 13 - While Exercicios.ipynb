{
 "cells": [
  {
   "cell_type": "code",
   "execution_count": 9,
   "metadata": {},
   "outputs": [
    {
     "name": "stdout",
     "output_type": "stream",
     "text": [
      "A senha digitada foi:  123\n",
      "\n",
      "Login efetuado com sucesso.\n"
     ]
    }
   ],
   "source": [
    "inputsenha = int(input(\"Por favor digite a sua senha: \"))\n",
    "\n",
    "print(\"A senha digitada foi: \", inputsenha)\n",
    "\n",
    "senha = 123\n",
    "\n",
    "while inputsenha != senha:\n",
    "\n",
    "    print(\"Senha incorreta, porfavor digite novamente a sua senha.\")\n",
    "    inputsenha = int(input(\"Por favor digite a sua senha: \"))\n",
    "\n",
    "print()\n",
    "print(\"Login efetuado com sucesso.\")\n",
    "\n"
   ]
  },
  {
   "cell_type": "code",
   "execution_count": 11,
   "metadata": {},
   "outputs": [],
   "source": [
    "while True:\n",
    "\n",
    "    user_input = input(\"Digite 'sair' para encerrar: \")\n",
    "\n",
    "    if user_input == \"sair\":\n",
    "\n",
    "        break"
   ]
  },
  {
   "cell_type": "code",
   "execution_count": 14,
   "metadata": {},
   "outputs": [
    {
     "name": "stdout",
     "output_type": "stream",
     "text": [
      "9\n",
      "O número secreto é menor. Tente novamente.\n",
      "O número secreto é menor. Tente novamente.\n",
      "O número secreto é menor. Tente novamente.\n",
      "O número secreto é maior. Tente novamente.\n",
      "O número secreto é maior. Tente novamente.\n",
      "O número secreto é maior. Tente novamente.\n",
      "O número secreto é maior. Tente novamente.\n",
      "O número secreto é maior. Tente novamente.\n",
      "O número secreto é maior. Tente novamente.\n",
      "O número secreto é menor. Tente novamente.\n",
      "Você acertou o número secreto 9 em 11 tentativas.\n"
     ]
    }
   ],
   "source": [
    "import random\n",
    "\n",
    "numero_secreto = random.randint(1, 100)\n",
    "tentativas = 0\n",
    "\n",
    "print(numero_secreto)\n",
    "\n",
    "while True:\n",
    "    palpite = int(input(\"Digite o seu palpite: \"))\n",
    "    tentativas += 1\n",
    "\n",
    "    if palpite < numero_secreto:\n",
    "\n",
    "        print(\"O número secreto é maior. Tente novamente.\")\n",
    "    \n",
    "    elif palpite > numero_secreto:\n",
    "        \n",
    "        print(\"O número secreto é menor. Tente novamente.\")\n",
    "\n",
    "    else:\n",
    "\n",
    "        print(f\"Você acertou o número secreto {numero_secreto} em {tentativas} tentativas.\")\n",
    "\n",
    "        break\n"
   ]
  },
  {
   "cell_type": "code",
   "execution_count": 17,
   "metadata": {},
   "outputs": [
    {
     "name": "stdout",
     "output_type": "stream",
     "text": [
      "Total:  33\n"
     ]
    }
   ],
   "source": [
    "somaNumerosDigitados = 0\n",
    "\n",
    "numero = int(input(\"Digite um número ou 0 para sair: \"))\n",
    "\n",
    "while numero != 0:\n",
    "\n",
    "    somaNumerosDigitados += numero\n",
    "\n",
    "    numero = int(input(\"Digite um número ou 0 para sair: \"))\n",
    "\n",
    "print(\"Total: \", somaNumerosDigitados)\n"
   ]
  }
 ],
 "metadata": {
  "kernelspec": {
   "display_name": "Python 3",
   "language": "python",
   "name": "python3"
  },
  "language_info": {
   "codemirror_mode": {
    "name": "ipython",
    "version": 3
   },
   "file_extension": ".py",
   "mimetype": "text/x-python",
   "name": "python",
   "nbconvert_exporter": "python",
   "pygments_lexer": "ipython3",
   "version": "3.12.0"
  }
 },
 "nbformat": 4,
 "nbformat_minor": 2
}
