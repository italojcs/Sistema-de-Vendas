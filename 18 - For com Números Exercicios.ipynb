{
 "cells": [
  {
   "cell_type": "code",
   "execution_count": 2,
   "metadata": {},
   "outputs": [
    {
     "name": "stdout",
     "output_type": "stream",
     "text": [
      "2 x 1 = 2 \n",
      "2 x 2 = 4 \n",
      "2 x 3 = 6 \n",
      "2 x 4 = 8 \n",
      "2 x 5 = 10 \n",
      "2 x 6 = 12 \n",
      "2 x 7 = 14 \n",
      "2 x 8 = 16 \n",
      "2 x 9 = 18 \n",
      "2 x 10 = 20 \n",
      "Fim da tabela de multiplicação.\n"
     ]
    }
   ],
   "source": [
    "inputuser = int(input(\"Digite um número positivo: \"))\n",
    "\n",
    "for i in range(1, 11):\n",
    "\n",
    "    resultado = inputuser * i\n",
    "\n",
    "    print(f\"{inputuser} x {i} = {resultado} \")\n",
    "\n",
    "print(\"Fim da tabela de multiplicação.\")"
   ]
  },
  {
   "cell_type": "code",
   "execution_count": 6,
   "metadata": {},
   "outputs": [
    {
     "name": "stdout",
     "output_type": "stream",
     "text": [
      "Digite um número inteiro positivo: 5\n",
      "Quadrado de 1: 1\n",
      "Digite um número inteiro positivo: 5\n",
      "Quadrado de 2: 4\n",
      "Digite um número inteiro positivo: 5\n",
      "Quadrado de 3: 9\n",
      "Digite um número inteiro positivo: 5\n",
      "Quadrado de 4: 16\n",
      "Digite um número inteiro positivo: 5\n",
      "Quadrado de 5: 25\n",
      "A soma dos quadrados do números de 1 até 5 é: 55\n"
     ]
    }
   ],
   "source": [
    "soma = 0\n",
    "\n",
    "inputuser = int(input(\"Digite um número positivo: \"))\n",
    "\n",
    "for i in range (1,inputuser + 1):\n",
    "\n",
    "    resultado = i * i\n",
    "\n",
    "    print(f\"Digite um número inteiro positivo: {inputuser}\")\n",
    "    print(f\"Quadrado de {i}: {resultado}\")\n",
    "\n",
    "    soma += resultado\n",
    "\n",
    "print(f\"A soma dos quadrados do números de 1 até {inputuser} é: {soma}\")\n",
    "\n"
   ]
  }
 ],
 "metadata": {
  "kernelspec": {
   "display_name": "Python 3",
   "language": "python",
   "name": "python3"
  },
  "language_info": {
   "codemirror_mode": {
    "name": "ipython",
    "version": 3
   },
   "file_extension": ".py",
   "mimetype": "text/x-python",
   "name": "python",
   "nbconvert_exporter": "python",
   "pygments_lexer": "ipython3",
   "version": "3.12.0"
  }
 },
 "nbformat": 4,
 "nbformat_minor": 2
}
