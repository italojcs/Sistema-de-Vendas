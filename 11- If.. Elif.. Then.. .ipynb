{
 "cells": [
  {
   "cell_type": "code",
   "execution_count": null,
   "metadata": {},
   "outputs": [
    {
     "name": "stdout",
     "output_type": "stream",
     "text": [
      "O número 1 é maior que o número 2\n"
     ]
    }
   ],
   "source": [
    "#Função IF\n",
    "\n",
    "numero1 = 90\n",
    "numero2 = 12\n",
    "\n",
    "if numero1 > numero2:\n",
    "    print (\"O número 1 é maior que o número 2\")"
   ]
  },
  {
   "cell_type": "code",
   "execution_count": 1,
   "metadata": {},
   "outputs": [
    {
     "name": "stdout",
     "output_type": "stream",
     "text": [
      "O número da variável numero1 é igual ao número da variável numero2\n"
     ]
    }
   ],
   "source": [
    "#Função IF... elif\n",
    "\n",
    "#if - Se\n",
    "#elif - Senão Se\n",
    "\n",
    "numero1 = 6\n",
    "numero2 = 6\n",
    "\n",
    "if numero1 > numero2:\n",
    "    print(\"O número da variável 1 é maior que o número da variável 2\")\n",
    "\n",
    "elif numero1 == numero2:\n",
    "    print(\"O número da variável numero1 é igual ao número da variável numero2\")"
   ]
  },
  {
   "cell_type": "code",
   "execution_count": 24,
   "metadata": {},
   "outputs": [
    {
     "name": "stdout",
     "output_type": "stream",
     "text": [
      "Você acertou o número secreto.\n"
     ]
    }
   ],
   "source": [
    "#Exercicio número secreto com o numero setado\n",
    "\n",
    "numerosecretouser = input (\"Digite qual é o número secreto: \")\n",
    "\n",
    "numerosecretouescolhido = int(numerosecretouser)\n",
    "\n",
    "numerosecreto = 7\n",
    "\n",
    "if numerosecreto == numerosecretouescolhido:\n",
    "    print(\"Você acertou o número secreto.\")\n",
    "\n",
    "else:\n",
    "    print(\"Você não acertou o número secreto, tente novamente.\")"
   ]
  },
  {
   "cell_type": "code",
   "execution_count": 26,
   "metadata": {},
   "outputs": [
    {
     "name": "stdout",
     "output_type": "stream",
     "text": [
      "Número secreto = 7\n",
      "Parabéns, você acertou o número secreto.\n"
     ]
    }
   ],
   "source": [
    "#Exercicio número secreto com o numero randomico.\n",
    "\n",
    "import random\n",
    "\n",
    "numerosecretouser = input (\"Digite qual é o número secreto que você deseja: \")\n",
    "\n",
    "numerosecretouescolhido = int(numerosecretouser)\n",
    "\n",
    "numerosecreto = (random.randrange(0,10))\n",
    "\n",
    "print(f\"Número secreto = {numerosecreto}\")\n",
    "\n",
    "if numerosecretouescolhido == numerosecreto:\n",
    "    print(\"Parabéns, você acertou o número secreto.\")\n",
    "else:\n",
    "    print(f\"Você não acertou o número secreto, o número secreto era: {numerosecreto}, tente novamente.\")\n",
    "\n",
    "\n",
    "\n"
   ]
  },
  {
   "cell_type": "code",
   "execution_count": 30,
   "metadata": {},
   "outputs": [
    {
     "name": "stdout",
     "output_type": "stream",
     "text": [
      "A idade do usuário é: 20\n",
      "Parábens, você está apto a votar.\n"
     ]
    }
   ],
   "source": [
    "#Exercicio para verificar elegibilidade para votos.\n",
    "\n",
    "idade = int(input (\"Digite sua idade para verificarmos se você pode participar da votação: \"))\n",
    "\n",
    "idademinima = 18\n",
    "\n",
    "print (f\"A idade do usuário é: {idade}\")\n",
    "\n",
    "if idade >= idademinima:\n",
    "    print(\"Parábens, você está apto a votar.\")\n",
    "else:\n",
    "    print(f\"Você não está apto para votar, pois sua idade é: {idade}, e a idade minima para votos é: {idademinima}\")"
   ]
  },
  {
   "cell_type": "code",
   "execution_count": 31,
   "metadata": {},
   "outputs": [
    {
     "name": "stdout",
     "output_type": "stream",
     "text": [
      "O número 1 é menor que o número 2.\n"
     ]
    }
   ],
   "source": [
    "#Função If.. Elif... Else\n",
    "\n",
    "numero1 = 2\n",
    "numero2 = 6\n",
    "\n",
    "if numero1 > numero2:\n",
    "    print(\"O número 1 é maior que o númeoro 2.\")\n",
    "elif numero1 == numero2:\n",
    "    print(\"O número 1 é igual ao número 2.\")\n",
    "else:\n",
    "    print(\"O número 1 é menor que o número 2.\")"
   ]
  },
  {
   "cell_type": "code",
   "execution_count": 33,
   "metadata": {},
   "outputs": [
    {
     "name": "stdout",
     "output_type": "stream",
     "text": [
      "As duas condições são verdadeiras:\n"
     ]
    }
   ],
   "source": [
    "#and - E\n",
    "\n",
    "numero1 = 50\n",
    "numero2 = 21\n",
    "numero3 = 200\n",
    "\n",
    "if numero1 > numero2 and numero3 > numero1:\n",
    "    print(\"As duas condições são verdadeiras:\")"
   ]
  },
  {
   "cell_type": "code",
   "execution_count": 34,
   "metadata": {},
   "outputs": [
    {
     "name": "stdout",
     "output_type": "stream",
     "text": [
      "Uma das condições são verdadeiras.\n"
     ]
    }
   ],
   "source": [
    "numero1 = 50\n",
    "numero2 = 21\n",
    "numero3 = 200\n",
    "\n",
    "if numero1 > numero3 or numero1 > numero2:\n",
    "    print(\"Uma das condições são verdadeiras.\")"
   ]
  },
  {
   "cell_type": "code",
   "execution_count": 37,
   "metadata": {},
   "outputs": [
    {
     "name": "stdout",
     "output_type": "stream",
     "text": [
      "Sua nota foi satisfatoria.\n"
     ]
    }
   ],
   "source": [
    "notauser = int(input(\"Digite sua nota: \"))\n",
    "\n",
    "if notauser >= 90 and notauser <= 100:\n",
    "    print(\"Sua nota foi excelente.\")\n",
    "elif notauser >= 70 and notauser <= 89:\n",
    "    print(\"Sua nota foi boa.\")\n",
    "elif notauser >= 50 and notauser <= 69:\n",
    "    print(\"Sua nota foi satisfatoria.\")\n",
    "else:\n",
    "    print(\"Sua nota foi insuficiente.\")"
   ]
  }
 ],
 "metadata": {
  "kernelspec": {
   "display_name": "Python 3",
   "language": "python",
   "name": "python3"
  },
  "language_info": {
   "codemirror_mode": {
    "name": "ipython",
    "version": 3
   },
   "file_extension": ".py",
   "mimetype": "text/x-python",
   "name": "python",
   "nbconvert_exporter": "python",
   "pygments_lexer": "ipython3",
   "version": "3.12.0"
  }
 },
 "nbformat": 4,
 "nbformat_minor": 2
}
