{
 "cells": [
  {
   "cell_type": "code",
   "execution_count": 2,
   "metadata": {},
   "outputs": [
    {
     "name": "stdout",
     "output_type": "stream",
     "text": [
      "5\n"
     ]
    }
   ],
   "source": [
    "#Função de soma\n",
    "\n",
    "def soma  (a, b):\n",
    "    return a + b \n",
    "\n",
    "resultado = soma (2, 3)\n",
    "print (resultado)"
   ]
  },
  {
   "cell_type": "code",
   "execution_count": 5,
   "metadata": {},
   "outputs": [
    {
     "name": "stdout",
     "output_type": "stream",
     "text": [
      "A soma é: 30\n"
     ]
    }
   ],
   "source": [
    "def soma  (a, b):\n",
    "    return a + b \n",
    "\n",
    "numero1 = int(input(\"Digite o primeiro número: \"))\n",
    "numero2 = int(input(\"Digite o segundo número: \"))\n",
    "\n",
    "resultado = soma(numero1, numero2)\n",
    "\n",
    "print(f\"A soma é: {resultado}\")\n",
    "\n"
   ]
  },
  {
   "cell_type": "code",
   "execution_count": 7,
   "metadata": {},
   "outputs": [
    {
     "name": "stdout",
     "output_type": "stream",
     "text": [
      "Olá, João! Bem vindo!\n"
     ]
    }
   ],
   "source": [
    "def saudacao (nome):\n",
    "\n",
    "    print(\"Olá, \" + nome + \"! Bem vindo!\")\n",
    "\n",
    "nome_usuario = \"João\"\n",
    "\n",
    "saudacao(nome_usuario)"
   ]
  },
  {
   "cell_type": "code",
   "execution_count": 14,
   "metadata": {},
   "outputs": [
    {
     "name": "stdout",
     "output_type": "stream",
     "text": [
      "Nome: João\n",
      "Idade: 25\n",
      "Cidade: Recife\n",
      "\n",
      "Nome: Maria\n",
      "Idade: 30\n",
      "Cidade: Paraíba\n"
     ]
    }
   ],
   "source": [
    "#Argumentos Default e Non-default\n",
    "\n",
    "def exibir_informacoes(nome, idade, cidade = \"Desconhecida\"):\n",
    "\n",
    "    print(\"Nome:\", nome)\n",
    "    print(\"Idade:\", idade)\n",
    "    print(\"Cidade:\", cidade)\n",
    "\n",
    "exibir_informacoes(\"João\", 25, \"Recife\")\n",
    "\n",
    "print()\n",
    "\n",
    "exibir_informacoes(\"Maria\", 30, \"Paraíba\")"
   ]
  },
  {
   "cell_type": "code",
   "execution_count": 16,
   "metadata": {},
   "outputs": [
    {
     "name": "stdout",
     "output_type": "stream",
     "text": [
      "29\n"
     ]
    }
   ],
   "source": [
    "#Varios argumentos *args com números\n",
    "\n",
    "def soma (*args):\n",
    "\n",
    "    #Função que retorna a soma de vários números.\n",
    "    resultado = sum(args)\n",
    "    return resultado\n",
    "\n",
    "total = soma(2, 4, 5, 8, 10)\n",
    "\n",
    "print(total)"
   ]
  },
  {
   "cell_type": "code",
   "execution_count": 19,
   "metadata": {},
   "outputs": [
    {
     "name": "stdout",
     "output_type": "stream",
     "text": [
      "Média: 8.0\n",
      "Maior Número: 10.0\n",
      "Menor Número: 5.0\n"
     ]
    }
   ],
   "source": [
    "def estatisticas (*args):\n",
    "\n",
    "    return sum(args) / len(args), max(args), min(args)\n",
    "\n",
    "numeros = list(map(float, input(\"Digite uma sequencia de numeros separados por espaço: \").split()))\n",
    "\n",
    "media, maior, menor = estatisticas(*numeros)\n",
    "\n",
    "print(f\"Média: {media}\")\n",
    "print(f\"Maior Número: {maior}\")\n",
    "print(f\"Menor Número: {menor}\")"
   ]
  }
 ],
 "metadata": {
  "kernelspec": {
   "display_name": "Python 3",
   "language": "python",
   "name": "python3"
  },
  "language_info": {
   "codemirror_mode": {
    "name": "ipython",
    "version": 3
   },
   "file_extension": ".py",
   "mimetype": "text/x-python",
   "name": "python",
   "nbconvert_exporter": "python",
   "pygments_lexer": "ipython3",
   "version": "3.12.0"
  }
 },
 "nbformat": 4,
 "nbformat_minor": 2
}
