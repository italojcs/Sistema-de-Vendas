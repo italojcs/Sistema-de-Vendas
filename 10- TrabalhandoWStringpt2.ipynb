{
 "cells": [
  {
   "cell_type": "code",
   "execution_count": 11,
   "metadata": {},
   "outputs": [
    {
     "name": "stdout",
     "output_type": "stream",
     "text": [
      "Olá, meu nome é Alice. Tenho 25 anos e minha altura é 1.65 metros.\n"
     ]
    }
   ],
   "source": [
    "#Utilizando o Formated Strings\n",
    "\n",
    "nome = \"Alice\"\n",
    "idade = 25\n",
    "altura = 1.65\n",
    "\n",
    "#Criando uma mensagem formatada usando o F-String\n",
    "\n",
    "mensagem = f\"Olá, meu nome é {nome}. Tenho {idade} anos e minha altura é {altura:.2f} metros.\"\n",
    "\n",
    "print(mensagem)"
   ]
  },
  {
   "cell_type": "code",
   "execution_count": 22,
   "metadata": {},
   "outputs": [
    {
     "name": "stdout",
     "output_type": "stream",
     "text": [
      "OLÁ, MUNDO!\n",
      "olá, mundo!\n",
      "Olá, mundo!\n",
      "1\n",
      "OLá, amigo!\n"
     ]
    }
   ],
   "source": [
    "texto = \"OLá, mundo!\"\n",
    "\n",
    "texto_upper = texto.upper()\n",
    "print(texto_upper)\n",
    "\n",
    "texto_lower = texto.lower()\n",
    "print(texto_lower)\n",
    "\n",
    "texto_capitalize = texto.capitalize()\n",
    "print(texto_capitalize)\n",
    "\n",
    "ocorrencias = texto.count (\"o\")\n",
    "print(ocorrencias)\n",
    "\n",
    "texto_substituido = texto.replace(\"mundo\", \"amigo\")\n",
    "print(texto_substituido)"
   ]
  },
  {
   "cell_type": "code",
   "execution_count": 39,
   "metadata": {},
   "outputs": [
    {
     "name": "stdout",
     "output_type": "stream",
     "text": [
      "Maria Silva\n",
      "Meu nome é: Maria Silva, e minha idade é: 30 anos.\n"
     ]
    }
   ],
   "source": [
    "#Primeiro exercicio:\n",
    "\n",
    "nome = \"Maria\"\n",
    "sobrenome = \"Silva\"\n",
    "idade = 30\n",
    "nome_completo = nome + \" \" + sobrenome\n",
    "print(nome_completo)\n",
    "\n",
    "mensagem = \"Meu nome é: {}, e minha idade é: {} anos.\".format(nome_completo, idade)\n",
    "print (mensagem)"
   ]
  },
  {
   "cell_type": "code",
   "execution_count": 59,
   "metadata": {},
   "outputs": [
    {
     "name": "stdout",
     "output_type": "stream",
     "text": [
      "58 Caracteres existentes.\n",
      "Python\n",
      "PYTHON É UMA LINGUAGEM DE PROGRAMAÇÃO PODEROSA E VERSÁTIL.\n",
      "Python é uma linguagem de programação incrível e versátil.\n"
     ]
    }
   ],
   "source": [
    "#Segundo exercicio: (Manipulação de strings em python)\n",
    "\n",
    "frase = \"Python é uma linguagem de programação poderosa e versátil.\"\n",
    "\n",
    "print (len((frase)),  \"Caracteres existentes.\")\n",
    "\n",
    "palavra = frase.split()[0]\n",
    "print (palavra)\n",
    "\n",
    "frase_maiuscula = frase.upper()\n",
    "print (frase_maiuscula)\n",
    "\n",
    "frase_substituida = frase.replace(\"poderosa\", \"incrível\")\n",
    "print(frase_substituida)\n",
    "\n",
    "\n",
    "\n"
   ]
  }
 ],
 "metadata": {
  "kernelspec": {
   "display_name": "Python 3",
   "language": "python",
   "name": "python3"
  },
  "language_info": {
   "codemirror_mode": {
    "name": "ipython",
    "version": 3
   },
   "file_extension": ".py",
   "mimetype": "text/x-python",
   "name": "python",
   "nbconvert_exporter": "python",
   "pygments_lexer": "ipython3",
   "version": "3.12.0"
  }
 },
 "nbformat": 4,
 "nbformat_minor": 2
}
