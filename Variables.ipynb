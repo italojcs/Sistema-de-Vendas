{
 "cells": [
  {
   "cell_type": "code",
   "execution_count": 1,
   "metadata": {},
   "outputs": [
    {
     "name": "stdout",
     "output_type": "stream",
     "text": [
      "Inteiro:  42\n",
      "Fluetuante:  42.0\n",
      "Complex: (3+4j)\n",
      "Text: Hello, world!\n",
      "Lista [1, 2, 3]\n",
      "Tupla: (1, 2, 3, 4, 5)\n",
      "Conjunto: {1, 2, 3}\n",
      "Dicionário: {'chave': 'valor'}\n",
      "Booleano: True\n",
      "NoneType (None): None\n"
     ]
    }
   ],
   "source": [
    "#Principais tipos de variaveis\n",
    "\n",
    "#Inteiros: Números inteiros, sem parte decimal.\n",
    "int = 42\n",
    "print (\"Inteiro: \", int)\n",
    "\n",
    "#Ponto flutuante: Números reais, que têm uma parte decimal.\n",
    "float = 42.0\n",
    "print (\"Fluetuante: \", float)\n",
    "\n",
    "#Complexos (complex): Números complexos, que tem uma parte real e uma parte imaginaria.\n",
    "complex = 3 + 4j\n",
    "print (\"Complex:\", complex)\n",
    "\n",
    "#Strings: Sequencia de caracters.\n",
    "text = \"Hello, world!\"\n",
    "\n",
    "print(\"Text:\", text)\n",
    "\n",
    "#Listas (list): Uma coleção ordanada e mutável que pode ser alterada depois de criado.\n",
    "list = [1, 2, 3]\n",
    "print (\"Lista\", list) \n",
    "\n",
    "#Tuplas (tuple): Uma coleção ordaneda e imutável que não pode ser alterado depois de criado.\n",
    "\n",
    "tuple = (1, 2, 3, 4, 5)\n",
    "print (\"Tupla:\", tuple)\n",
    "\n",
    "#Conjuntos (set): Uma coleção não ordenada de itens únicos.\n",
    "\n",
    "set = {1, 2, 3}\n",
    "print(\"Conjunto:\", set)\n",
    "\n",
    "#Dicionarios (dict): Uma coleção não ordenada de pares chave-valor.\n",
    "\n",
    "dict = {\"chave\": \"valor\"}\n",
    "print (\"Dicionário:\", dict)\n",
    "\n",
    "#Bool: Valores verdadeiro ou falso.\n",
    "\n",
    "bool = True\n",
    "print(\"Booleano:\", bool)\n",
    "\n",
    "#NoneType (None): Um tipo especial que representa a ausência de valores.\n",
    "nenhum = None\n",
    "print(\"NoneType (None):\", nenhum)\n",
    "\n"
   ]
  },
  {
   "cell_type": "code",
   "execution_count": 3,
   "metadata": {},
   "outputs": [
    {
     "name": "stdout",
     "output_type": "stream",
     "text": [
      "Nome: Nicole\n",
      "Idade: 30\n",
      "Nome: Nicole , Idade: 30\n"
     ]
    }
   ],
   "source": [
    "#Variables\n",
    "\n",
    "idade = 30\n",
    "nome = \"Nicole\"\n",
    "\n",
    "print (\"Nome:\", nome)\n",
    "print (\"Idade:\", idade)\n",
    "print (\"Nome:\", nome, \", Idade:\", idade)"
   ]
  },
  {
   "cell_type": "code",
   "execution_count": 4,
   "metadata": {},
   "outputs": [
    {
     "name": "stdout",
     "output_type": "stream",
     "text": [
      "O seu nome é: \n"
     ]
    }
   ],
   "source": [
    "nome = input(\"Digite seu nome: \")\n",
    "\n",
    "print (\"O seu nome é: \" + nome)"
   ]
  }
 ],
 "metadata": {
  "kernelspec": {
   "display_name": "Python 3",
   "language": "python",
   "name": "python3"
  },
  "language_info": {
   "codemirror_mode": {
    "name": "ipython",
    "version": 3
   },
   "file_extension": ".py",
   "mimetype": "text/x-python",
   "name": "python",
   "nbconvert_exporter": "python",
   "pygments_lexer": "ipython3",
   "version": "3.12.0"
  }
 },
 "nbformat": 4,
 "nbformat_minor": 2
}
