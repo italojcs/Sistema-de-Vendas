{
 "cells": [
  {
   "cell_type": "code",
   "execution_count": 3,
   "metadata": {},
   "outputs": [
    {
     "name": "stdout",
     "output_type": "stream",
     "text": [
      "A\n",
      "B\n",
      "C\n"
     ]
    }
   ],
   "source": [
    "lista = [\"A\", \"B\", \"C\", \"D\", \"E\"]\n",
    "\n",
    "for item in lista:\n",
    "    print(item)\n",
    "\n",
    "    if item == \"C\":\n",
    "        break"
   ]
  },
  {
   "cell_type": "code",
   "execution_count": 6,
   "metadata": {},
   "outputs": [
    {
     "name": "stdout",
     "output_type": "stream",
     "text": [
      "maça\n",
      "banana\n",
      "laranja\n"
     ]
    }
   ],
   "source": [
    "frutas = [\"maça\", \"banana\", \"laranja\"]\n",
    "\n",
    "for fruta in frutas:\n",
    "\n",
    "    print(fruta)"
   ]
  },
  {
   "cell_type": "code",
   "execution_count": 8,
   "metadata": {},
   "outputs": [
    {
     "name": "stdout",
     "output_type": "stream",
     "text": [
      "1\n",
      "2\n",
      "3\n",
      "4\n",
      "5\n",
      "6\n",
      "7\n",
      "8\n",
      "9\n",
      "10\n"
     ]
    }
   ],
   "source": [
    "numero = int(input(\"Digite um número: \"))\n",
    "\n",
    "for i in range (1, numero + 1):\n",
    "\n",
    "    print (i)"
   ]
  },
  {
   "cell_type": "code",
   "execution_count": 10,
   "metadata": {},
   "outputs": [
    {
     "name": "stdout",
     "output_type": "stream",
     "text": [
      "1 É impar.\n",
      "2 Número par.\n",
      "3 É impar.\n",
      "4 Número par.\n",
      "5 É impar.\n",
      "6 Número par.\n",
      "7 É impar.\n",
      "8 Número par.\n",
      "9 É impar.\n",
      "10 Número par.\n"
     ]
    }
   ],
   "source": [
    "numeros = [1, 2, 3, 4, 5, 6, 7, 8, 9, 10]\n",
    "\n",
    "for numero in numeros:\n",
    "\n",
    "    if numero % 2 == 0:\n",
    "\n",
    "        print(numero, \"Número par.\")\n",
    "\n",
    "    else:\n",
    "\n",
    "        print(numero, \"É impar.\")"
   ]
  },
  {
   "cell_type": "code",
   "execution_count": 12,
   "metadata": {},
   "outputs": [
    {
     "name": "stdout",
     "output_type": "stream",
     "text": [
      "Eu preciso comprar maça\n",
      "Eu preciso comprar banana\n",
      "Eu preciso comprar arroz\n",
      "Eu preciso comprar feijão\n"
     ]
    }
   ],
   "source": [
    "itens_compras = [\"maça\", \"banana\", \"arroz\", \"feijão\"]\n",
    "\n",
    "for item in itens_compras:\n",
    "\n",
    "    print(\"Eu preciso comprar\", item)"
   ]
  },
  {
   "cell_type": "code",
   "execution_count": 22,
   "metadata": {},
   "outputs": [
    {
     "name": "stdout",
     "output_type": "stream",
     "text": [
      "*****\n",
      "****\n",
      "***\n",
      "**\n",
      "*\n"
     ]
    }
   ],
   "source": [
    "\n",
    "for i in range (5, 0, -1):\n",
    "\n",
    "    print(\"*\" * i)\n"
   ]
  },
  {
   "cell_type": "code",
   "execution_count": 27,
   "metadata": {},
   "outputs": [
    {
     "name": "stdout",
     "output_type": "stream",
     "text": [
      "Casa\n",
      "Carro\n"
     ]
    }
   ],
   "source": [
    "inputuser = [\"Casa\", \"Carro\", \"sol\", \"dd\"]\n",
    "\n",
    "for i in inputuser:\n",
    "\n",
    "    digitos = len(i)\n",
    "\n",
    "    if digitos >= 4:\n",
    "\n",
    "        print(i)\n",
    "\n"
   ]
  }
 ],
 "metadata": {
  "kernelspec": {
   "display_name": "Python 3",
   "language": "python",
   "name": "python3"
  },
  "language_info": {
   "codemirror_mode": {
    "name": "ipython",
    "version": 3
   },
   "file_extension": ".py",
   "mimetype": "text/x-python",
   "name": "python",
   "nbconvert_exporter": "python",
   "pygments_lexer": "ipython3",
   "version": "3.12.0"
  }
 },
 "nbformat": 4,
 "nbformat_minor": 2
}
