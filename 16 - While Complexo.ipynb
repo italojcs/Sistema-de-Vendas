{
 "cells": [
  {
   "cell_type": "code",
   "execution_count": 2,
   "metadata": {},
   "outputs": [
    {
     "name": "stdout",
     "output_type": "stream",
     "text": [
      "x: 5, y: 15\n",
      "x: 6, y: 14\n",
      "x: 7, y: 13\n",
      "x: 8, y: 12\n",
      "x: 9, y: 11\n",
      "Loop concluído.\n",
      "Valores finais de x: 10, y: 10\n"
     ]
    }
   ],
   "source": [
    "#While usando uma condição complexa\n",
    "\n",
    "x, y = 5, 15\n",
    "\n",
    "while x < 10 and y > 10:\n",
    "\n",
    "    print(f\"x: {x}, y: {y}\")\n",
    "\n",
    "    x += 1\n",
    "    y -= 1\n",
    "\n",
    "#Quando o loop terminar, as expressões abaixo seram executadas.\n",
    "\n",
    "print(\"Loop concluído.\")\n",
    "print(f\"Valores finais de x: {x}, y: {y}\")"
   ]
  },
  {
   "cell_type": "code",
   "execution_count": 3,
   "metadata": {},
   "outputs": [
    {
     "name": "stdout",
     "output_type": "stream",
     "text": [
      "Tentativas restantes: 5\n",
      "Tente novamente!\n",
      "Você não conseguiu adivinhar os números. Eles eram 7 and 3\n",
      "Tentativas restantes: 4\n",
      "Você adivinhou o primeiro número!\n",
      "Você adivinhou o Segundo número!\n",
      "Parábens, você adivinhou ambos os números:\n"
     ]
    }
   ],
   "source": [
    "numero_secreto1 = 7\n",
    "numero_secreto2 = 3\n",
    "\n",
    "tentativas = 5\n",
    "\n",
    "adivinhou1 = False\n",
    "adivinhou2 = False\n",
    "\n",
    "while tentativas > 0 and (not adivinhou1 == True or not adivinhou2 == True):\n",
    "\n",
    "    print(f\"Tentativas restantes: {tentativas}\")\n",
    "\n",
    "    palpite1 = int(input(\"Adivinhe o primeiro numero secreto (1-10): \"))\n",
    "    palpite2 = int(input(\"Adivinhe o primeiro numero secreto (1-10): \"))\n",
    "\n",
    "    # Se palpite1 é igual ao numero_secreto1 imprime a mensagem.\n",
    "    if palpite1 == numero_secreto1:\n",
    "        \n",
    "        print(\"Você adivinhou o primeiro número!\")\n",
    "\n",
    "        adivinhou1 = True\n",
    "\n",
    "\n",
    "    if palpite2 == numero_secreto2:\n",
    "        \n",
    "        print(\"Você adivinhou o Segundo número!\")\n",
    "\n",
    "        adivinhou2 = True\n",
    "\n",
    "    #Se não adivinhou exibe tente\n",
    "\n",
    "    if not adivinhou1 or not adivinhou2:\n",
    "        \n",
    "        print(\"Tente novamente!\")\n",
    "\n",
    "        tentativas -= 1\n",
    "\n",
    "    if adivinhou1 == True and adivinhou1 == True:\n",
    "\n",
    "        print(\"Parábens, você adivinhou ambos os números:\")\n",
    "\n",
    "    else:\n",
    "\n",
    "        print(f\"Você não conseguiu adivinhar os números. Eles eram {numero_secreto1} and {numero_secreto2}\")\n",
    "\n"
   ]
  }
 ],
 "metadata": {
  "kernelspec": {
   "display_name": "Python 3",
   "language": "python",
   "name": "python3"
  },
  "language_info": {
   "codemirror_mode": {
    "name": "ipython",
    "version": 3
   },
   "file_extension": ".py",
   "mimetype": "text/x-python",
   "name": "python",
   "nbconvert_exporter": "python",
   "pygments_lexer": "ipython3",
   "version": "3.12.0"
  }
 },
 "nbformat": 4,
 "nbformat_minor": 2
}
